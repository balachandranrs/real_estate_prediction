{
 "cells": [
  {
   "cell_type": "markdown",
   "metadata": {},
   "source": [
    "## Global Imports"
   ]
  },
  {
   "cell_type": "code",
   "execution_count": 1,
   "metadata": {
    "collapsed": true
   },
   "outputs": [],
   "source": [
    "import pandas\n",
    "import time"
   ]
  },
  {
   "cell_type": "code",
   "execution_count": 2,
   "metadata": {
    "collapsed": true
   },
   "outputs": [],
   "source": [
    "usecols = ['borough_code', 'date_processed', 'house_flat',\"ward_code\",\n",
    "       'inner_outer', 'local_authority', 'month',\n",
    "       'post_code', 'post_code_clean', 'postcode', 'price', 'property_type',\n",
    "       'quarter', 'tenure', 'town',\n",
    "       'transaction_id', 'whether_new',\n",
    "       'whether_newbuild', 'year', 'year_month']\n",
    "london = pandas.read_csv(\"/home/vivek/Documents/mydata/iimb/london_real_estate/regression_input_post_code_year_month_aggregate\",usecols=usecols,low_memory=False)"
   ]
  },
  {
   "cell_type": "code",
   "execution_count": 39,
   "metadata": {},
   "outputs": [
    {
     "data": {
      "text/html": [
       "<div>\n",
       "<style>\n",
       "    .dataframe thead tr:only-child th {\n",
       "        text-align: right;\n",
       "    }\n",
       "\n",
       "    .dataframe thead th {\n",
       "        text-align: left;\n",
       "    }\n",
       "\n",
       "    .dataframe tbody tr th {\n",
       "        vertical-align: top;\n",
       "    }\n",
       "</style>\n",
       "<table border=\"1\" class=\"dataframe\">\n",
       "  <thead>\n",
       "    <tr style=\"text-align: right;\">\n",
       "      <th></th>\n",
       "      <th>borough_code</th>\n",
       "      <th>date_processed</th>\n",
       "      <th>house_flat</th>\n",
       "      <th>inner_outer</th>\n",
       "      <th>local_authority</th>\n",
       "      <th>month</th>\n",
       "      <th>post_code</th>\n",
       "      <th>post_code_clean</th>\n",
       "      <th>postcode</th>\n",
       "      <th>price</th>\n",
       "      <th>property_type</th>\n",
       "      <th>quarter</th>\n",
       "      <th>tenure</th>\n",
       "      <th>town</th>\n",
       "      <th>transaction_id</th>\n",
       "      <th>ward_code</th>\n",
       "      <th>whether_new</th>\n",
       "      <th>whether_newbuild</th>\n",
       "      <th>year</th>\n",
       "      <th>year_month</th>\n",
       "    </tr>\n",
       "  </thead>\n",
       "  <tbody>\n",
       "    <tr>\n",
       "      <th>0</th>\n",
       "      <td>E09000003</td>\n",
       "      <td>11/01/1995 00:00</td>\n",
       "      <td>NaN</td>\n",
       "      <td>Outer</td>\n",
       "      <td>BARNET</td>\n",
       "      <td>1</td>\n",
       "      <td>N20 9AQ</td>\n",
       "      <td>N20 9AQ</td>\n",
       "      <td>NaN</td>\n",
       "      <td>155000</td>\n",
       "      <td>F</td>\n",
       "      <td>1</td>\n",
       "      <td>L</td>\n",
       "      <td>LONDON</td>\n",
       "      <td>{5C1CC576-24F6-453B-9984-3898CC3AA528}</td>\n",
       "      <td>E05000058</td>\n",
       "      <td>Y</td>\n",
       "      <td>NaN</td>\n",
       "      <td>1995</td>\n",
       "      <td>1995/1</td>\n",
       "    </tr>\n",
       "    <tr>\n",
       "      <th>1</th>\n",
       "      <td>E09000028</td>\n",
       "      <td>10/01/1995 00:00</td>\n",
       "      <td>NaN</td>\n",
       "      <td>Inner</td>\n",
       "      <td>SOUTHWARK</td>\n",
       "      <td>1</td>\n",
       "      <td>SE1 4HG</td>\n",
       "      <td>SE1 4HG</td>\n",
       "      <td>NaN</td>\n",
       "      <td>67500</td>\n",
       "      <td>F</td>\n",
       "      <td>1</td>\n",
       "      <td>L</td>\n",
       "      <td>LONDON</td>\n",
       "      <td>{95DF4882-F26C-4F92-A7B5-38994DC4C35D}</td>\n",
       "      <td>E05000542</td>\n",
       "      <td>Y</td>\n",
       "      <td>NaN</td>\n",
       "      <td>1995</td>\n",
       "      <td>1995/1</td>\n",
       "    </tr>\n",
       "  </tbody>\n",
       "</table>\n",
       "</div>"
      ],
      "text/plain": [
       "  borough_code    date_processed  house_flat inner_outer local_authority  \\\n",
       "0    E09000003  11/01/1995 00:00         NaN       Outer          BARNET   \n",
       "1    E09000028  10/01/1995 00:00         NaN       Inner       SOUTHWARK   \n",
       "\n",
       "   month post_code post_code_clean postcode   price property_type  quarter  \\\n",
       "0      1   N20 9AQ         N20 9AQ      NaN  155000             F        1   \n",
       "1      1   SE1 4HG         SE1 4HG      NaN   67500             F        1   \n",
       "\n",
       "  tenure    town                          transaction_id  ward_code  \\\n",
       "0      L  LONDON  {5C1CC576-24F6-453B-9984-3898CC3AA528}  E05000058   \n",
       "1      L  LONDON  {95DF4882-F26C-4F92-A7B5-38994DC4C35D}  E05000542   \n",
       "\n",
       "  whether_new whether_newbuild  year year_month  \n",
       "0           Y              NaN  1995     1995/1  \n",
       "1           Y              NaN  1995     1995/1  "
      ]
     },
     "execution_count": 39,
     "metadata": {},
     "output_type": "execute_result"
    }
   ],
   "source": [
    "london.head(2)"
   ]
  },
  {
   "cell_type": "code",
   "execution_count": 3,
   "metadata": {
    "collapsed": true
   },
   "outputs": [],
   "source": [
    "train = londonPrice[londonPrice[\"year_month_new\"]<201401]\n",
    "test = londonPrice[londonPrice[\"year_month_new\"]>=201401]"
   ]
  },
  {
   "cell_type": "code",
   "execution_count": null,
   "metadata": {
    "collapsed": true
   },
   "outputs": [],
   "source": [
    "import statsmodels.api as sm\n",
    "import statsmodels.formula.api as smf"
   ]
  },
  {
   "cell_type": "code",
   "execution_count": 36,
   "metadata": {},
   "outputs": [
    {
     "name": "stdout",
     "output_type": "stream",
     "text": [
      "1500132748.5208478\n",
      "                         Mixed Linear Model Regression Results\n",
      "========================================================================================\n",
      "Model:                      MixedLM         Dependent Variable:         price           \n",
      "No. Observations:           403071          Method:                     REML            \n",
      "No. Groups:                 121802          Scale:                      85001807436.1233\n",
      "Min. group size:            1               Likelihood:                 -5780783.5804   \n",
      "Max. group size:            35              Converged:                  Yes             \n",
      "Mean group size:            3.3                                                         \n",
      "----------------------------------------------------------------------------------------\n",
      "                        Coef.        Std.Err.     z    P>|z|     [0.025        0.975]   \n",
      "----------------------------------------------------------------------------------------\n",
      "Intercept             -56149102.189 835990.448 -67.165 0.000 -57787613.359 -54510591.019\n",
      "year_month_new              280.051      4.156  67.391 0.000       271.906       288.195\n",
      "airport_10000            -43429.670   1053.273 -41.233 0.000    -45494.048    -41365.292\n",
      "atm_500                  -16401.374   1236.592 -13.263 0.000    -18825.050    -13977.698\n",
      "bank_500                  22260.240    858.486  25.930 0.000     20577.637     23942.842\n",
      "bus_station_500           -9718.173    467.347 -20.794 0.000    -10634.156     -8802.190\n",
      "church_500                -7716.293    653.907 -11.800 0.000     -8997.927     -6434.660\n",
      "hospital_500               6267.114    931.130   6.731 0.000      4442.132      8092.096\n",
      "parking_500               12075.812   1551.142   7.785 0.000      9035.631     15115.994\n",
      "pharmacy_500              -7715.962    962.541  -8.016 0.000     -9602.507     -5829.417\n",
      "police_500               -29499.132   4043.248  -7.296 0.000    -37423.752    -21574.512\n",
      "restaurant_500             5402.817    129.606  41.686 0.000      5148.793      5656.841\n",
      "school_500                18382.570    545.010  33.729 0.000     17314.370     19450.771\n",
      "taxi_stand_2000           57902.920   1608.280  36.003 0.000     54750.749     61055.091\n",
      "train_station_1000       -26739.160   1243.363 -21.506 0.000    -29176.106    -24302.214\n",
      "university_500           -11195.260    953.076 -11.746 0.000    -13063.254     -9327.266\n",
      "ndvi_mean                969167.101  34939.472  27.738 0.000    900686.994   1037647.209\n",
      "Tmax                        876.639     90.388   9.699 0.000       699.482      1053.795\n",
      "rain_mm                     149.061     18.261   8.163 0.000       113.270       184.853\n",
      "groups RE          284608548304.464   5848.198                                          \n",
      "========================================================================================\n",
      "\n",
      "Total Time Taken Is 731.752325296402 seconds\n"
     ]
    }
   ],
   "source": [
    "start_time = time.time()\n",
    "print (start_time)\n",
    "md = smf.mixedlm('price~year_month_new + airport_10000 + atm_500 + bank_500 + bus_station_500 + church_500 + hospital_500  + parking_500 + pharmacy_500 + police_500 + restaurant_500 + school_500 + taxi_stand_2000 + train_station_1000 + university_500  + ndvi_mean + Tmax + rain_mm',train, groups=train[\"post_code\"])\n",
    "mdf = md.fit()\n",
    "print(mdf.summary())\n",
    "print(\"Total Time Taken Is %s seconds\" % (time.time() - start_time))"
   ]
  },
  {
   "cell_type": "markdown",
   "metadata": {},
   "source": [
    "## Calculating Test MAPE FOR LME"
   ]
  },
  {
   "cell_type": "code",
   "execution_count": 52,
   "metadata": {},
   "outputs": [
    {
     "data": {
      "text/html": [
       "<div>\n",
       "<style>\n",
       "    .dataframe thead tr:only-child th {\n",
       "        text-align: right;\n",
       "    }\n",
       "\n",
       "    .dataframe thead th {\n",
       "        text-align: left;\n",
       "    }\n",
       "\n",
       "    .dataframe tbody tr th {\n",
       "        vertical-align: top;\n",
       "    }\n",
       "</style>\n",
       "<table border=\"1\" class=\"dataframe\">\n",
       "  <thead>\n",
       "    <tr style=\"text-align: right;\">\n",
       "      <th></th>\n",
       "      <th>post_code</th>\n",
       "      <th>price</th>\n",
       "      <th>Predicted</th>\n",
       "      <th>AP</th>\n",
       "    </tr>\n",
       "  </thead>\n",
       "  <tbody>\n",
       "    <tr>\n",
       "      <th>0</th>\n",
       "      <td></td>\n",
       "      <td>614260.622941</td>\n",
       "      <td>885794.656036</td>\n",
       "      <td>0.442050</td>\n",
       "    </tr>\n",
       "    <tr>\n",
       "      <th>1</th>\n",
       "      <td>BR1 1AE</td>\n",
       "      <td>325000.000000</td>\n",
       "      <td>663443.450694</td>\n",
       "      <td>1.041364</td>\n",
       "    </tr>\n",
       "    <tr>\n",
       "      <th>2</th>\n",
       "      <td>BR1 1BQ</td>\n",
       "      <td>183142.857143</td>\n",
       "      <td>507919.926136</td>\n",
       "      <td>1.773354</td>\n",
       "    </tr>\n",
       "    <tr>\n",
       "      <th>3</th>\n",
       "      <td>BR1 1HN</td>\n",
       "      <td>182000.000000</td>\n",
       "      <td>442630.879837</td>\n",
       "      <td>1.432038</td>\n",
       "    </tr>\n",
       "    <tr>\n",
       "      <th>4</th>\n",
       "      <td>BR1 1HP</td>\n",
       "      <td>430000.000000</td>\n",
       "      <td>493998.094328</td>\n",
       "      <td>0.148833</td>\n",
       "    </tr>\n",
       "  </tbody>\n",
       "</table>\n",
       "</div>"
      ],
      "text/plain": [
       "  post_code          price      Predicted        AP\n",
       "0            614260.622941  885794.656036  0.442050\n",
       "1   BR1 1AE  325000.000000  663443.450694  1.041364\n",
       "2   BR1 1BQ  183142.857143  507919.926136  1.773354\n",
       "3   BR1 1HN  182000.000000  442630.879837  1.432038\n",
       "4   BR1 1HP  430000.000000  493998.094328  0.148833"
      ]
     },
     "execution_count": 52,
     "metadata": {},
     "output_type": "execute_result"
    }
   ],
   "source": [
    "testCols = ['year_month_new', 'airport_10000', 'atm_500', 'bank_500',\\\n",
    "       'bus_station_500', 'church_500', 'hospital_500',\\\n",
    "       'parking_500', 'pharmacy_500', 'police_500', 'restaurant_500',\\\n",
    "       'school_500', 'taxi_stand_2000', 'train_station_1000', 'university_500',\\\n",
    "        'ndvi_mean',\\\n",
    "       'Tmax', 'rain_mm']\n",
    "predicted = mdf.predict(test[testCols])\n",
    "test1 = test\n",
    "test1[\"Predicted\"] = predicted\n",
    "postalMean = pandas.DataFrame(test1.groupby([\"post_code\"])[\"price\",\"Predicted\"].mean()).reset_index()\n",
    "postalMean[\"AP\"] = abs(postalMean[\"price\"]  -  postalMean[\"Predicted\"])/postalMean[\"price\"]\n",
    "postalMean.head(5)"
   ]
  },
  {
   "cell_type": "code",
   "execution_count": 50,
   "metadata": {},
   "outputs": [
    {
     "data": {
      "text/plain": [
       "0.6228854142902633"
      ]
     },
     "execution_count": 50,
     "metadata": {},
     "output_type": "execute_result"
    }
   ],
   "source": [
    "postalMean.AP.mean()"
   ]
  }
 ],
 "metadata": {
  "kernelspec": {
   "display_name": "Python 3",
   "language": "python",
   "name": "python3"
  },
  "language_info": {
   "codemirror_mode": {
    "name": "ipython",
    "version": 3
   },
   "file_extension": ".py",
   "mimetype": "text/x-python",
   "name": "python",
   "nbconvert_exporter": "python",
   "pygments_lexer": "ipython3",
   "version": "3.6.1"
  }
 },
 "nbformat": 4,
 "nbformat_minor": 2
}
