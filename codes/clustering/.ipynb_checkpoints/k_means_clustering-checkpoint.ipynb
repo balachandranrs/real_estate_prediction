{
 "cells": [
  {
   "cell_type": "markdown",
   "metadata": {},
   "source": [
    "## Global Imports"
   ]
  },
  {
   "cell_type": "code",
   "execution_count": null,
   "metadata": {
    "collapsed": true
   },
   "outputs": [],
   "source": [
    "import pandas\n",
    "import seaborn as sn\n",
    "import os\n",
    "import missingno as msno\n",
    "import matplotlib.pyplot as plt\n",
    "from sklearn import model_selection, preprocessing\n",
    "import numpy as np\n",
    "%matplotlib inline"
   ]
  },
  {
   "cell_type": "markdown",
   "metadata": {},
   "source": [
    "## K Means Clustering"
   ]
  },
  {
   "cell_type": "code",
   "execution_count": 52,
   "metadata": {
    "collapsed": true
   },
   "outputs": [],
   "source": [
    "clusDataOriginal = pandas.read_csv(\"/home/vivek/Documents/mydata/iimb/clustering_dataset.csv\",skiprows=[1])\n",
    "clusData = clusDataOriginal.drop([\"post_code\"],axis=1)"
   ]
  },
  {
   "cell_type": "code",
   "execution_count": 85,
   "metadata": {
    "collapsed": true
   },
   "outputs": [],
   "source": [
    "standardCols = []\n",
    "boroughCols = []\n",
    "for col in clusData.columns:\n",
    "    if \"borough\" not in col and col not in [\"latitude\",\"longitude\"]:\n",
    "        standardCols.append(col)\n",
    "    else:\n",
    "        boroughCols.append(col) \n",
    "priceCols = ['price','medianPrice','maxPrice','minPrice']"
   ]
  },
  {
   "cell_type": "code",
   "execution_count": 88,
   "metadata": {
    "collapsed": true
   },
   "outputs": [],
   "source": [
    "from sklearn.cluster import KMeans\n",
    "from sklearn.preprocessing import StandardScaler\n",
    "scaler = StandardScaler()\n",
    "X_non_borough_matrix = scaler.fit_transform( clusData[priceCols])"
   ]
  },
  {
   "cell_type": "code",
   "execution_count": 87,
   "metadata": {
    "collapsed": true
   },
   "outputs": [],
   "source": [
    "X_borough_matrix = clusData[boroughCols].as_matrix()\n",
    "finalClusMatrix = np.concatenate((X_non_borough_matrix,X_borough_matrix),axis=1)"
   ]
  },
  {
   "cell_type": "markdown",
   "metadata": {},
   "source": [
    "### Running Clusters For Different N"
   ]
  },
  {
   "cell_type": "code",
   "execution_count": 89,
   "metadata": {},
   "outputs": [
    {
     "name": "stdout",
     "output_type": "stream",
     "text": [
      "current num of clusters:  1\n",
      "Time Take For Given Run 0.848240852355957 seconds\n",
      "#################################\n",
      "current num of clusters:  2\n",
      "Time Take For Given Run 2.484393835067749 seconds\n",
      "#################################\n",
      "current num of clusters:  3\n",
      "Time Take For Given Run 4.383542537689209 seconds\n",
      "#################################\n",
      "current num of clusters:  4\n",
      "Time Take For Given Run 6.990019798278809 seconds\n",
      "#################################\n",
      "current num of clusters:  5\n",
      "Time Take For Given Run 9.582504749298096 seconds\n",
      "#################################\n",
      "current num of clusters:  6\n",
      "Time Take For Given Run 12.8417489528656 seconds\n",
      "#################################\n",
      "current num of clusters:  7\n",
      "Time Take For Given Run 17.9674334526062 seconds\n",
      "#################################\n",
      "current num of clusters:  8\n",
      "Time Take For Given Run 22.486526250839233 seconds\n",
      "#################################\n",
      "current num of clusters:  9\n",
      "Time Take For Given Run 28.342963218688965 seconds\n",
      "#################################\n",
      "current num of clusters:  10\n",
      "Time Take For Given Run 33.519232988357544 seconds\n",
      "#################################\n",
      "current num of clusters:  11\n",
      "Time Take For Given Run 39.05411219596863 seconds\n",
      "#################################\n",
      "current num of clusters:  12\n",
      "Time Take For Given Run 45.18954801559448 seconds\n",
      "#################################\n",
      "current num of clusters:  13\n",
      "Time Take For Given Run 53.1176860332489 seconds\n",
      "#################################\n",
      "current num of clusters:  14\n",
      "Time Take For Given Run 62.228538513183594 seconds\n",
      "#################################\n",
      "Total Time Taken Is 62.22927451133728 seconds\n"
     ]
    }
   ],
   "source": [
    "import time\n",
    "start_time = time.time()\n",
    "cluster_range = list(range( 1,15,1))\n",
    "cluster_errors = []\n",
    "startTime = time.localtime\n",
    "\n",
    "for num_clusters in cluster_range:\n",
    "    print (\"current num of clusters: \",num_clusters)\n",
    "    clusters = KMeans( num_clusters )\n",
    "    clusters.fit( X_non_borough_matrix )\n",
    "    cluster_errors.append( clusters.inertia_ )\n",
    "    print(\"Time Take For Given Run %s seconds\" % (time.time() - start_time))\n",
    "    print (\"#################################\")\n",
    "    \n",
    "print(\"Total Time Taken Is %s seconds\" % (time.time() - start_time))"
   ]
  },
  {
   "cell_type": "code",
   "execution_count": 90,
   "metadata": {
    "collapsed": true
   },
   "outputs": [],
   "source": [
    "clusters_df = pandas.DataFrame( { \"num_clusters\":cluster_range, \"cluster_errors\": cluster_errors } )"
   ]
  },
  {
   "cell_type": "markdown",
   "metadata": {},
   "source": [
    "### Elbow Analysis"
   ]
  },
  {
   "cell_type": "code",
   "execution_count": 91,
   "metadata": {},
   "outputs": [
    {
     "data": {
      "text/plain": [
       "[<matplotlib.lines.Line2D at 0x7fd237a49898>]"
      ]
     },
     "execution_count": 91,
     "metadata": {},
     "output_type": "execute_result"
    },
    {
     "data": {
      "image/png": "[encoded data removed]",
      "text/plain": [
       "<matplotlib.figure.Figure at 0x7fd238255358>"
      ]
     },
     "metadata": {},
     "output_type": "display_data"
    }
   ],
   "source": [
    "plt.figure(figsize=(12,6))\n",
    "plt.plot( clusters_df.num_clusters, clusters_df.cluster_errors, marker = \"o\" )"
   ]
  },
  {
   "cell_type": "markdown",
   "metadata": {},
   "source": [
    "### Clustering With No Of Cluster As 4"
   ]
  },
  {
   "cell_type": "code",
   "execution_count": 92,
   "metadata": {},
   "outputs": [
    {
     "data": {
      "text/plain": [
       "KMeans(algorithm='auto', copy_x=True, init='k-means++', max_iter=300,\n",
       "    n_clusters=4, n_init=10, n_jobs=1, precompute_distances='auto',\n",
       "    random_state=None, tol=0.0001, verbose=0)"
      ]
     },
     "execution_count": 92,
     "metadata": {},
     "output_type": "execute_result"
    }
   ],
   "source": [
    "clusters = KMeans( 4 )\n",
    "clusters.fit( X_non_borough_matrix )"
   ]
  },
  {
   "cell_type": "code",
   "execution_count": 115,
   "metadata": {},
   "outputs": [
    {
     "data": {
      "text/plain": [
       "0    140528\n",
       "3     14254\n",
       "1      1402\n",
       "2        86\n",
       "Name: cluster, dtype: int64"
      ]
     },
     "execution_count": 115,
     "metadata": {},
     "output_type": "execute_result"
    }
   ],
   "source": [
    "clusData[\"cluster\"]  = clusters.labels_\n",
    "clusData[\"cluster\"].value_counts()"
   ]
  },
  {
   "cell_type": "markdown",
   "metadata": {},
   "source": [
    "### Visualizing Cluster In London Map"
   ]
  },
  {
   "cell_type": "code",
   "execution_count": 104,
   "metadata": {
    "collapsed": true
   },
   "outputs": [],
   "source": [
    "import folium\n",
    "default = (51.5155,-0.0922)\n",
    "map = folium.Map(location=default, zoom_start=10)\n",
    "cmark_map = folium.Map(location=default, zoom_start=10,tiles='Stamen Terrain')\n",
    "toner_map = folium.Map(location=default, zoom_start=10,tiles='Stamen Toner')\n",
    "colorCodes = {0:\"red\",1:\"blue\",2:\"green\",3:\"orange\", 4:\"yellow\",5:\"black\",6:\"brown\",\n",
    "              7:\"pink\",8:\"grey\",9:\"white\",10:\"purple\"}"
   ]
  },
  {
   "cell_type": "code",
   "execution_count": 141,
   "metadata": {},
   "outputs": [
    {
     "data": {
      "text/plain": [
       "(15627, 57)"
      ]
     },
     "execution_count": 141,
     "metadata": {},
     "output_type": "execute_result"
    }
   ],
   "source": [
    "sample = pandas.DataFrame(clusData.groupby('cluster').apply(lambda x: x.sample(frac=.1)))\n",
    "sample.shape"
   ]
  },
  {
   "cell_type": "code",
   "execution_count": 145,
   "metadata": {
    "collapsed": true
   },
   "outputs": [],
   "source": [
    "cmark_map2 = folium.Map(location=default, zoom_start=10,tiles='Stamen Terrain')\n",
    "for each in sample.iterrows():\n",
    "    folium.CircleMarker(radius=4, color=colorCodes[each[1][\"cluster\"]],fill_color=colorCodes[each[1][\"cluster\"]],location=[each[1]['latitude'], each[1]['longitude']]).add_to(cmark_map2)"
   ]
  },
  {
   "cell_type": "code",
   "execution_count": 149,
   "metadata": {
    "collapsed": true
   },
   "outputs": [],
   "source": [
    "cmark_map2.save(\"/home/vivek/Documents/mydata/iimb/cluster_output.png\")"
   ]
  },
  {
   "cell_type": "code",
   "execution_count": null,
   "metadata": {
    "collapsed": true
   },
   "outputs": [],
   "source": []
  }
 ],
 "metadata": {
  "kernelspec": {
   "display_name": "Python 3",
   "language": "python",
   "name": "python3"
  },
  "language_info": {
   "codemirror_mode": {
    "name": "ipython",
    "version": 3
   },
   "file_extension": ".py",
   "mimetype": "text/x-python",
   "name": "python",
   "nbconvert_exporter": "python",
   "pygments_lexer": "ipython3",
   "version": "3.6.1"
  }
 },
 "nbformat": 4,
 "nbformat_minor": 2
}
