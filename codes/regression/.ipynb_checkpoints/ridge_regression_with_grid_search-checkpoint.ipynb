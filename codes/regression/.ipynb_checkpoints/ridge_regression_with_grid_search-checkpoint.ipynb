{
 "cells": [
  {
   "cell_type": "markdown",
   "metadata": {},
   "source": [
    "## Global Imports"
   ]
  },
  {
   "cell_type": "code",
   "execution_count": 1,
   "metadata": {},
   "outputs": [
    {
     "name": "stderr",
     "output_type": "stream",
     "text": [
      "/home/vivek/anaconda3/lib/python3.6/site-packages/IPython/core/interactiveshell.py:2698: DtypeWarning: Columns (142) have mixed types. Specify dtype option on import or set low_memory=False.\n",
      "  interactivity=interactivity, compiler=compiler, result=result)\n"
     ]
    }
   ],
   "source": [
    "import pandas\n",
    "import seaborn as sn\n",
    "import matplotlib.pyplot as plt\n",
    "import numpy as np\n",
    "%matplotlib inline\n",
    "london = pandas.read_csv(\"/home/vivek/Documents/mydata/iimb/regression/regression_input_post_code_year_month_aggregate.csv\")"
   ]
  },
  {
   "cell_type": "code",
   "execution_count": 2,
   "metadata": {},
   "outputs": [
    {
     "data": {
      "text/plain": [
       "(2189743, 152)"
      ]
     },
     "execution_count": 2,
     "metadata": {},
     "output_type": "execute_result"
    }
   ],
   "source": [
    "london.shape"
   ]
  },
  {
   "cell_type": "markdown",
   "metadata": {},
   "source": [
    "### Dummifying Month And Cluster"
   ]
  },
  {
   "cell_type": "code",
   "execution_count": 2,
   "metadata": {
    "collapsed": true
   },
   "outputs": [],
   "source": [
    "london[\"month\"] = london[\"year_month_new\"].map(lambda x:int(str(x)[4:]))\n",
    "monthDummies = pandas.get_dummies(london[\"month\"],prefix=\"month\"+\"_\")\n",
    "london = pandas.concat([london,monthDummies],axis=1)\n",
    "london.drop([\"month\"],axis=1,inplace=True)\n",
    "\n",
    "clusterDummies = pandas.get_dummies(london[\"cluster\"],prefix=\"cluster\"+\"_\")\n",
    "london = pandas.concat([london,clusterDummies],axis=1)\n",
    "london.drop([\"cluster\"],axis=1,inplace=True)"
   ]
  },
  {
   "cell_type": "markdown",
   "metadata": {},
   "source": [
    "### Filtering Data From 2009 (execute It only if working on subset of data)"
   ]
  },
  {
   "cell_type": "code",
   "execution_count": null,
   "metadata": {
    "collapsed": true
   },
   "outputs": [],
   "source": [
    "londonPrice = london[london[\"year_month_new\"]>=200901] ## or from 199501 for full data"
   ]
  },
  {
   "cell_type": "code",
   "execution_count": 3,
   "metadata": {
    "collapsed": true
   },
   "outputs": [],
   "source": [
    "dropList = [\"borough\",\"ward\",\"borough_code\",\"latitude\",\"longitude\",\"yearBetween\",\\\n",
    "            \"YearMon\",\"Year\",\"Month\",\"ward_code\",'avg_co2_emission_in_kt', 'avg_population']\n",
    "londonPrice = londonPrice.drop(dropList,axis=1)\n",
    "\n",
    "train = londonPrice[londonPrice[\"year_month_new\"]<201401]\n",
    "test = londonPrice[londonPrice[\"year_month_new\"]>=201401]\n",
    "testCols = train.columns[3:]"
   ]
  },
  {
   "cell_type": "markdown",
   "metadata": {},
   "source": [
    "## Ridge Regression"
   ]
  },
  {
   "cell_type": "code",
   "execution_count": null,
   "metadata": {
    "collapsed": true
   },
   "outputs": [],
   "source": [
    "from sklearn.linear_model import Ridge\n",
    "from sklearn.model_selection import GridSearchCV\n",
    "from sklearn import metrics\n",
    "\n",
    "ridge_m_ = Ridge()\n",
    "ridge_params_ = { 'max_iter':[100],'alpha':[0.01,0.05,0.1, 1, 2, 3, 4, 10, 30,100,150,200,250]}\n",
    "#rmsle_scorer = metrics.make_scorer(rmsle, greater_is_better=False)\n",
    "grid_ridge_m = GridSearchCV( ridge_m_,\n",
    "                          ridge_params_,\n",
    "#                           scoring = rmsle_scorer,\n",
    "                          cv=5)\n",
    "grid_ridge_m.fit(X = X_train,y = y)\n",
    "\n",
    "predsTrain =grid_ridge_m.predict(X= train[testCols])\n",
    "predsTest = grid_ridge_m.predict(X= test[testCols])\n",
    "print (grid_ridge_m.best_params_)\n"
   ]
  },
  {
   "cell_type": "markdown",
   "metadata": {},
   "source": [
    "## Visualizing For Optimum Grid Values"
   ]
  },
  {
   "cell_type": "code",
   "execution_count": null,
   "metadata": {
    "collapsed": true
   },
   "outputs": [],
   "source": [
    "fig,ax= plt.subplots()\n",
    "fig.set_size_inches(20,5)\n",
    "df = pandas.DataFrame(grid_ridge_m.grid_scores_)\n",
    "df[\"alpha\"] = df[\"parameters\"].apply(lambda x:x[\"alpha\"])\n",
    "df[\"score\"] = df[\"mean_validation_score\"].apply(lambda x:-x)\n",
    "sn.pointplot(data=df,x=\"alpha\",y=\"score\",ax=ax)"
   ]
  },
  {
   "cell_type": "markdown",
   "metadata": {},
   "source": [
    "## Calculating Train And Test MAPE"
   ]
  },
  {
   "cell_type": "code",
   "execution_count": null,
   "metadata": {
    "collapsed": true
   },
   "outputs": [],
   "source": [
    "trainResults = train\n",
    "trainResults[\"Predicted\"] = predsTrain\n",
    "postalMeanTrain = pandas.DataFrame(trainResults.groupby([\"post_code\"])[\"price\",\"Predicted\"].mean()).reset_index()\n",
    "postalMeanTrain[\"AP\"] = abs(postalMeanTrain[\"price\"]  -  postalMeanTrain[\"Predicted\"])/postalMeanTrain[\"price\"]\n",
    "print(\"Train Mape: \",postalMeanTrain.AP.mean())\n",
    "\n",
    "testResults = test\n",
    "testResults[\"Predicted\"] = predsTest\n",
    "postalMeanTest = pandas.DataFrame(testResults.groupby([\"post_code\"])[\"price\",\"Predicted\"].mean()).reset_index()\n",
    "postalMeanTest[\"AP\"] = abs(postalMeanTest[\"price\"]  -  postalMeanTest[\"Predicted\"])/postalMeanTest[\"price\"]\n",
    "print(\"Test Mape: \",postalMeanTest.AP.mean())\n",
    "\n",
    "print (\"R2\",grid_ridge_m.score(X = X_train,y = y))"
   ]
  },
  {
   "cell_type": "markdown",
   "metadata": {},
   "source": [
    "## Running Ridge Regression Model Every Cluster Separately"
   ]
  },
  {
   "cell_type": "code",
   "execution_count": null,
   "metadata": {
    "collapsed": true
   },
   "outputs": [],
   "source": [
    "for clusNum in list(london[\"cluster\"].unique()):\n",
    "    print(\"cluster Num: \",clusNum)\n",
    "    londonPrice = london[london[\"cluster\"]==int(clusNum)]\n",
    "\n",
    "    londonPrice = londonPrice[londonPrice[\"year_month_new\"]>=200901] # 199501 For Full Data\n",
    "    dropList = [\"borough\",\"ward\",\"borough_code\",\"latitude\",\"longitude\",\"yearBetween\",\\\n",
    "                \"YearMon\",\"Year\",\"Month\",\"ward_code\",'avg_co2_emission_in_kt', 'avg_population']\n",
    "    londonPrice = londonPrice.drop(dropList,axis=1)\n",
    "\n",
    "    train = londonPrice[londonPrice[\"year_month_new\"]<201401]\n",
    "    test = londonPrice[londonPrice[\"year_month_new\"]>=201401]\n",
    "    testCols = train.columns[3:]\n",
    "\n",
    "    X_train = train[testCols]\n",
    "    y = train[\"price\"]\n",
    "\n",
    "    # Initialize logistic regression model\n",
    "    ridge = Ridge(alpha=100)\n",
    "\n",
    "    # Train the model\n",
    "    ridge.fit(X = X_train,y = y)\n",
    "\n",
    "    # Make predictions\n",
    "    predsTrain =ridge.predict(X= train[testCols])\n",
    "    predsTest = ridge.predict(X= test[testCols])\n",
    "\n",
    "\n",
    "    trainResults = train\n",
    "    trainResults[\"Predicted\"] = predsTrain\n",
    "    postalMeanTrain = pandas.DataFrame(trainResults.groupby([\"post_code\"])[\"price\",\"Predicted\"].mean()).reset_index()\n",
    "    postalMeanTrain[\"AP\"] = abs(postalMeanTrain[\"price\"]  -  postalMeanTrain[\"Predicted\"])/postalMeanTrain[\"price\"]\n",
    "    print(\"Train Mape: \",postalMeanTrain.AP.mean())\n",
    "\n",
    "    testResults = test\n",
    "    testResults[\"Predicted\"] = predsTest\n",
    "    postalMeanTest = pandas.DataFrame(testResults.groupby([\"post_code\"])[\"price\",\"Predicted\"].mean()).reset_index()\n",
    "    postalMeanTest[\"AP\"] = abs(postalMeanTest[\"price\"]  -  postalMeanTest[\"Predicted\"])/postalMeanTest[\"price\"]\n",
    "    print(\"Test Mape: \",postalMeanTest.AP.mean())\n",
    "\n",
    "    print (\"R2\",ridge.score(X = X_train,y = y))\n",
    "    print(\"######## End Of Iteration ######\\n\")"
   ]
  }
 ],
 "metadata": {
  "kernelspec": {
   "display_name": "Python 3",
   "language": "python",
   "name": "python3"
  },
  "language_info": {
   "codemirror_mode": {
    "name": "ipython",
    "version": 3
   },
   "file_extension": ".py",
   "mimetype": "text/x-python",
   "name": "python",
   "nbconvert_exporter": "python",
   "pygments_lexer": "ipython3",
   "version": "3.6.1"
  }
 },
 "nbformat": 4,
 "nbformat_minor": 2
}
