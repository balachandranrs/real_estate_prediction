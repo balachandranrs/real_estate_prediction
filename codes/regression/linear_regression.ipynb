{
 "cells": [
  {
   "cell_type": "markdown",
   "metadata": {},
   "source": [
    "## Global Imports"
   ]
  },
  {
   "cell_type": "code",
   "execution_count": 1,
   "metadata": {},
   "outputs": [
    {
     "name": "stderr",
     "output_type": "stream",
     "text": [
      "/home/vivek/anaconda3/lib/python3.6/site-packages/IPython/core/interactiveshell.py:2698: DtypeWarning: Columns (142) have mixed types. Specify dtype option on import or set low_memory=False.\n",
      "  interactivity=interactivity, compiler=compiler, result=result)\n"
     ]
    }
   ],
   "source": [
    "import pandas\n",
    "import seaborn as sn\n",
    "import matplotlib.pyplot as plt\n",
    "import numpy as np\n",
    "%matplotlib inline\n",
    "london = pandas.read_csv(\"/home/vivek/Documents/mydata/iimb/regression/regression_input_post_code_year_month_aggregate.csv\")"
   ]
  },
  {
   "cell_type": "code",
   "execution_count": 2,
   "metadata": {},
   "outputs": [
    {
     "data": {
      "text/plain": [
       "(2189743, 152)"
      ]
     },
     "execution_count": 2,
     "metadata": {},
     "output_type": "execute_result"
    }
   ],
   "source": [
    "london.shape"
   ]
  },
  {
   "cell_type": "markdown",
   "metadata": {},
   "source": [
    "### Dummifying Month And Cluster"
   ]
  },
  {
   "cell_type": "code",
   "execution_count": 2,
   "metadata": {
    "collapsed": true
   },
   "outputs": [],
   "source": [
    "london[\"month\"] = london[\"year_month_new\"].map(lambda x:int(str(x)[4:]))\n",
    "monthDummies = pandas.get_dummies(london[\"month\"],prefix=\"month\"+\"_\")\n",
    "london = pandas.concat([london,monthDummies],axis=1)\n",
    "london.drop([\"month\"],axis=1,inplace=True)\n",
    "\n",
    "clusterDummies = pandas.get_dummies(london[\"cluster\"],prefix=\"cluster\"+\"_\")\n",
    "london = pandas.concat([london,clusterDummies],axis=1)\n",
    "london.drop([\"cluster\"],axis=1,inplace=True)"
   ]
  },
  {
   "cell_type": "markdown",
   "metadata": {},
   "source": [
    "### Filtering Data From 2009 (execute It only if working on subset of data)"
   ]
  },
  {
   "cell_type": "code",
   "execution_count": null,
   "metadata": {
    "collapsed": true
   },
   "outputs": [],
   "source": [
    "londonPrice = london[london[\"year_month_new\"]>=200901] ## or from 199501 for full data"
   ]
  },
  {
   "cell_type": "code",
   "execution_count": 3,
   "metadata": {
    "collapsed": true
   },
   "outputs": [],
   "source": [
    "dropList = [\"borough\",\"ward\",\"borough_code\",\"latitude\",\"longitude\",\"yearBetween\",\\\n",
    "            \"YearMon\",\"Year\",\"Month\",\"ward_code\",'avg_co2_emission_in_kt', 'avg_population']\n",
    "londonPrice = londonPrice.drop(dropList,axis=1)\n",
    "\n",
    "train = londonPrice[londonPrice[\"year_month_new\"]<201401]\n",
    "test = londonPrice[londonPrice[\"year_month_new\"]>=201401]\n",
    "testCols = train.columns[3:]"
   ]
  },
  {
   "cell_type": "markdown",
   "metadata": {},
   "source": [
    "### From Correlation Results Following  Features Are Found To Be Multicollinear In Nature"
   ]
  },
  {
   "cell_type": "code",
   "execution_count": 6,
   "metadata": {
    "collapsed": true
   },
   "outputs": [],
   "source": [
    "removeCols = ['crude_1995','inflation_factor','ndvi_min','ndvi_mean',\"prct_open_space\",\\\n",
    "              'latitude','ndvi_max','yearBetween','water_zone','ndvi_median','parking_500','liquor_store_500',\\\n",
    "              'atm_500','pharmacy_500','bank_500',\"taxi_stand_2000\",\"prct_open_space_with_access\"]\n",
    "\n",
    "testCols = list(set(testCols) - set(removeCols))"
   ]
  },
  {
   "cell_type": "code",
   "execution_count": 59,
   "metadata": {
    "collapsed": true
   },
   "outputs": [],
   "source": [
    "## To Find Correlation Between Features\n",
    "cor = londonPrice.corr()\n",
    "\n",
    "## To Get Correlation Between One And All\n",
    "cor1 = cor[[\"life_expectancy\"]]\n",
    "cor1 = cor1.sort_values([\"life_expectancy\"],ascending=False)\n",
    "cor1.head(50)\n",
    "\n",
    "## Correlation Between Features\n",
    "londonPrice[[\"price\",\"haversine_distance\"]].corr()"
   ]
  },
  {
   "cell_type": "markdown",
   "metadata": {},
   "source": [
    "## Linear Regression"
   ]
  },
  {
   "cell_type": "code",
   "execution_count": 8,
   "metadata": {},
   "outputs": [
    {
     "name": "stdout",
     "output_type": "stream",
     "text": [
      "Train Mape:  0.4092842026173057\n",
      "Test Mape:  0.49308649874592103\n",
      "R2 0.363291780127\n"
     ]
    }
   ],
   "source": [
    "from sklearn.linear_model import LinearRegression\n",
    "import warnings\n",
    "warnings.filterwarnings(\"ignore\")\n",
    "\n",
    "X_train = train[testCols]\n",
    "y = train[\"price\"]\n",
    "\n",
    "# Initialize logistic regression model\n",
    "lModel = LinearRegression()\n",
    "\n",
    "# Train the model\n",
    "lModel.fit(X = X_train,y = y)\n",
    "\n",
    "# Make predictions\n",
    "predsTrain =lModel.predict(X= train[testCols])\n",
    "predsTest = lModel.predict(X= test[testCols])\n",
    "\n",
    "\n",
    "trainResults = train\n",
    "trainResults[\"Predicted\"] = predsTrain\n",
    "postalMeanTrain = pandas.DataFrame(trainResults.groupby([\"post_code\"])[\"price\",\"Predicted\"].mean()).reset_index()\n",
    "postalMeanTrain[\"AP\"] = abs(postalMeanTrain[\"price\"]  -  postalMeanTrain[\"Predicted\"])/postalMeanTrain[\"price\"]\n",
    "print(\"Train Mape: \",postalMeanTrain.AP.mean())\n",
    "\n",
    "testResults = test\n",
    "testResults[\"Predicted\"] = predsTest\n",
    "postalMeanTest = pandas.DataFrame(testResults.groupby([\"post_code\"])[\"price\",\"Predicted\"].mean()).reset_index()\n",
    "postalMeanTest[\"AP\"] = abs(postalMeanTest[\"price\"]  -  postalMeanTest[\"Predicted\"])/postalMeanTest[\"price\"]\n",
    "print(\"Test Mape: \",postalMeanTest.AP.mean())\n",
    "\n",
    "print (\"R2\",lModel.score(X = X_train,y = y))"
   ]
  },
  {
   "cell_type": "markdown",
   "metadata": {},
   "source": [
    "## Residual Plot For Linear Regression"
   ]
  },
  {
   "cell_type": "code",
   "execution_count": 16,
   "metadata": {},
   "outputs": [
    {
     "data": {
      "text/plain": [
       "<matplotlib.text.Text at 0x7f84e49ea4a8>"
      ]
     },
     "execution_count": 16,
     "metadata": {},
     "output_type": "execute_result"
    },
    {
     "data": {
      "image/png": "[encoded data removed]",
      "text/plain": [
       "<matplotlib.figure.Figure at 0x7f84e49dd080>"
      ]
     },
     "metadata": {},
     "output_type": "display_data"
    }
   ],
   "source": [
    "import matplotlib\n",
    "import matplotlib.pyplot as plt\n",
    "import seaborn as sn\n",
    "%matplotlib inline\n",
    "fig,ax= plt.subplots()\n",
    "fig.set_size_inches(20,5)\n",
    "sn.residplot(x = test[\"price\"],y = predsTest,ax=ax)\n",
    "ax.set_ylabel(\"Residuals\")"
   ]
  },
  {
   "cell_type": "markdown",
   "metadata": {},
   "source": [
    "## Calculating Beta Coefficients And P value"
   ]
  },
  {
   "cell_type": "code",
   "execution_count": 145,
   "metadata": {},
   "outputs": [
    {
     "data": {
      "text/html": [
       "<div>\n",
       "<style>\n",
       "    .dataframe thead tr:only-child th {\n",
       "        text-align: right;\n",
       "    }\n",
       "\n",
       "    .dataframe thead th {\n",
       "        text-align: left;\n",
       "    }\n",
       "\n",
       "    .dataframe tbody tr th {\n",
       "        vertical-align: top;\n",
       "    }\n",
       "</style>\n",
       "<table border=\"1\" class=\"dataframe\">\n",
       "  <thead>\n",
       "    <tr style=\"text-align: right;\">\n",
       "      <th></th>\n",
       "      <th>beta_coef</th>\n",
       "      <th>features</th>\n",
       "      <th>p_Value</th>\n",
       "    </tr>\n",
       "  </thead>\n",
       "  <tbody>\n",
       "    <tr>\n",
       "      <th>7</th>\n",
       "      <td>-8.743649e+14</td>\n",
       "      <td>month__7</td>\n",
       "      <td>3.838974e-18</td>\n",
       "    </tr>\n",
       "    <tr>\n",
       "      <th>2</th>\n",
       "      <td>-8.743649e+14</td>\n",
       "      <td>month__2</td>\n",
       "      <td>1.224726e-12</td>\n",
       "    </tr>\n",
       "    <tr>\n",
       "      <th>9</th>\n",
       "      <td>-8.743649e+14</td>\n",
       "      <td>month__5</td>\n",
       "      <td>1.516831e-08</td>\n",
       "    </tr>\n",
       "    <tr>\n",
       "      <th>3</th>\n",
       "      <td>-8.743649e+14</td>\n",
       "      <td>month__9</td>\n",
       "      <td>3.699513e-06</td>\n",
       "    </tr>\n",
       "    <tr>\n",
       "      <th>0</th>\n",
       "      <td>-8.743649e+14</td>\n",
       "      <td>month__8</td>\n",
       "      <td>8.245720e-06</td>\n",
       "    </tr>\n",
       "    <tr>\n",
       "      <th>8</th>\n",
       "      <td>-8.743649e+14</td>\n",
       "      <td>month__3</td>\n",
       "      <td>1.456791e-05</td>\n",
       "    </tr>\n",
       "    <tr>\n",
       "      <th>1</th>\n",
       "      <td>-8.743649e+14</td>\n",
       "      <td>month__4</td>\n",
       "      <td>2.348231e-04</td>\n",
       "    </tr>\n",
       "    <tr>\n",
       "      <th>10</th>\n",
       "      <td>-8.743649e+14</td>\n",
       "      <td>month__11</td>\n",
       "      <td>5.573887e-02</td>\n",
       "    </tr>\n",
       "    <tr>\n",
       "      <th>5</th>\n",
       "      <td>-8.743649e+14</td>\n",
       "      <td>month__10</td>\n",
       "      <td>8.652456e-02</td>\n",
       "    </tr>\n",
       "    <tr>\n",
       "      <th>6</th>\n",
       "      <td>-8.743649e+14</td>\n",
       "      <td>month__12</td>\n",
       "      <td>1.312045e-01</td>\n",
       "    </tr>\n",
       "    <tr>\n",
       "      <th>11</th>\n",
       "      <td>-8.743649e+14</td>\n",
       "      <td>month__1</td>\n",
       "      <td>2.623248e-01</td>\n",
       "    </tr>\n",
       "    <tr>\n",
       "      <th>4</th>\n",
       "      <td>-8.743649e+14</td>\n",
       "      <td>month__6</td>\n",
       "      <td>8.369887e-01</td>\n",
       "    </tr>\n",
       "  </tbody>\n",
       "</table>\n",
       "</div>"
      ],
      "text/plain": [
       "       beta_coef   features       p_Value\n",
       "7  -8.743649e+14   month__7  3.838974e-18\n",
       "2  -8.743649e+14   month__2  1.224726e-12\n",
       "9  -8.743649e+14   month__5  1.516831e-08\n",
       "3  -8.743649e+14   month__9  3.699513e-06\n",
       "0  -8.743649e+14   month__8  8.245720e-06\n",
       "8  -8.743649e+14   month__3  1.456791e-05\n",
       "1  -8.743649e+14   month__4  2.348231e-04\n",
       "10 -8.743649e+14  month__11  5.573887e-02\n",
       "5  -8.743649e+14  month__10  8.652456e-02\n",
       "6  -8.743649e+14  month__12  1.312045e-01\n",
       "11 -8.743649e+14   month__1  2.623248e-01\n",
       "4  -8.743649e+14   month__6  8.369887e-01"
      ]
     },
     "execution_count": 145,
     "metadata": {},
     "output_type": "execute_result"
    }
   ],
   "source": [
    "from sklearn import feature_selection\n",
    "features = feature_selection.f_regression(X = X_train,y = y)\n",
    "featureImportanceDf = pandas.DataFrame({\"features\":X_train.columns,\"beta_coef\":lModel.coef_,\"p_Value\":features[1]})\n",
    "sortedDf = featureImportanceDf.sort_values([\"p_Value\"])\n",
    "sortedDf.head(75)"
   ]
  },
  {
   "cell_type": "markdown",
   "metadata": {},
   "source": [
    "## Running Linear Regression Model Every Cluster Separately"
   ]
  },
  {
   "cell_type": "code",
   "execution_count": null,
   "metadata": {
    "collapsed": true
   },
   "outputs": [],
   "source": [
    "for clusNum in list(london[\"cluster\"].unique()):\n",
    "    print(\"cluster Num: \",clusNum)\n",
    "    londonPrice = london[london[\"cluster\"]==int(clusNum)]\n",
    "\n",
    "    londonPrice = londonPrice[londonPrice[\"year_month_new\"]>=200901] ## 199501 for full \n",
    "    dropList = [\"borough\",\"ward\",\"borough_code\",\"latitude\",\"longitude\",\"yearBetween\",\\\n",
    "                \"YearMon\",\"Year\",\"Month\",\"ward_code\",'avg_co2_emission_in_kt', 'avg_population']\n",
    "    londonPrice = londonPrice.drop(dropList,axis=1)\n",
    "\n",
    "    train = londonPrice[londonPrice[\"year_month_new\"]<201401]\n",
    "    test = londonPrice[londonPrice[\"year_month_new\"]>=201401]\n",
    "    testCols = train.columns[3:]\n",
    "\n",
    "    X_train = train[testCols]\n",
    "    y = train[\"price\"]\n",
    "\n",
    "    # Initialize logistic regression model\n",
    "    lModel = LinearRegression()\n",
    "\n",
    "    # Train the model\n",
    "    lModel.fit(X = X_train,y = y)\n",
    "\n",
    "    # Make predictions\n",
    "    predsTrain =lModel.predict(X= train[testCols])\n",
    "    predsTest = lModel.predict(X= test[testCols])\n",
    "\n",
    "\n",
    "    trainResults = train\n",
    "    trainResults[\"Predicted\"] = predsTrain\n",
    "    postalMeanTrain = pandas.DataFrame(trainResults.groupby([\"post_code\"])[\"price\",\"Predicted\"].mean()).reset_index()\n",
    "    postalMeanTrain[\"AP\"] = abs(postalMeanTrain[\"price\"]  -  postalMeanTrain[\"Predicted\"])/postalMeanTrain[\"price\"]\n",
    "    print(\"Train Mape: \",postalMeanTrain.AP.mean())\n",
    "\n",
    "    testResults = test\n",
    "    testResults[\"Predicted\"] = predsTest\n",
    "    postalMeanTest = pandas.DataFrame(testResults.groupby([\"post_code\"])[\"price\",\"Predicted\"].mean()).reset_index()\n",
    "    postalMeanTest[\"AP\"] = abs(postalMeanTest[\"price\"]  -  postalMeanTest[\"Predicted\"])/postalMeanTest[\"price\"]\n",
    "    print(\"Test Mape: \",postalMeanTest.AP.mean())\n",
    "\n",
    "    print (\"R2\",lModel.score(X = X_train,y = y))\n",
    "    print(\"######## End Of Iteration ######\\n\")"
   ]
  }
 ],
 "metadata": {
  "kernelspec": {
   "display_name": "Python 3",
   "language": "python",
   "name": "python3"
  },
  "language_info": {
   "codemirror_mode": {
    "name": "ipython",
    "version": 3
   },
   "file_extension": ".py",
   "mimetype": "text/x-python",
   "name": "python",
   "nbconvert_exporter": "python",
   "pygments_lexer": "ipython3",
   "version": "3.6.1"
  }
 },
 "nbformat": 4,
 "nbformat_minor": 2
}
