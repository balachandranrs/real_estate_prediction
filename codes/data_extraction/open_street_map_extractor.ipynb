{
 "cells": [
  {
   "cell_type": "markdown",
   "metadata": {},
   "source": [
    "## Global Imports"
   ]
  },
  {
   "cell_type": "code",
   "execution_count": null,
   "metadata": {
    "collapsed": true
   },
   "outputs": [],
   "source": [
    "import pandas\n",
    "import overpy\n",
    "import time\n",
    "import sys"
   ]
  },
  {
   "cell_type": "markdown",
   "metadata": {},
   "source": [
    "## Utility To Request OSM API And Parse Result"
   ]
  },
  {
   "cell_type": "code",
   "execution_count": null,
   "metadata": {
    "collapsed": true
   },
   "outputs": [],
   "source": [
    "api = overpy.Overpass()\n",
    "def get_osm(around,post_code,lat,long):\n",
    "    result = api.query(\"\"\"\n",
    "        way(around:{0},{1},{2}) [\"highway\"];\n",
    "        (._;>;);\n",
    "        out body;\n",
    "        \"\"\".format(around,lat,long))\n",
    "    highways = [way.tags.get(\"highway\", \"n/a\") for way in result.ways]\n",
    "    freq = {x:highways.count(x) for x in highways}\n",
    "    freq[\"post_code\"] = post_code\n",
    "    freq[\"latitude\"] = lat\n",
    "    freq[\"longitude\"] = long\n",
    "    return freq"
   ]
  }
 ],
 "metadata": {
  "kernelspec": {
   "display_name": "Python 3",
   "language": "python",
   "name": "python3"
  },
  "language_info": {
   "codemirror_mode": {
    "name": "ipython",
    "version": 3
   },
   "file_extension": ".py",
   "mimetype": "text/x-python",
   "name": "python",
   "nbconvert_exporter": "python",
   "pygments_lexer": "ipython3",
   "version": "3.6.1"
  }
 },
 "nbformat": 4,
 "nbformat_minor": 2
}
