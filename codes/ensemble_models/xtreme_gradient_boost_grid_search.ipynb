{
 "cells": [
  {
   "cell_type": "markdown",
   "metadata": {},
   "source": [
    "## Global Imports"
   ]
  },
  {
   "cell_type": "code",
   "execution_count": 1,
   "metadata": {},
   "outputs": [
    {
     "name": "stderr",
     "output_type": "stream",
     "text": [
      "/home/vivek/anaconda3/lib/python3.6/site-packages/IPython/core/interactiveshell.py:2698: DtypeWarning: Columns (142) have mixed types. Specify dtype option on import or set low_memory=False.\n",
      "  interactivity=interactivity, compiler=compiler, result=result)\n"
     ]
    }
   ],
   "source": [
    "import pandas\n",
    "import seaborn as sn\n",
    "import matplotlib.pyplot as plt\n",
    "import numpy as np\n",
    "%matplotlib inline\n",
    "london = pandas.read_csv(\"/home/vivek/Documents/mydata/iimb/regression/regression_input_post_code_year_month_aggregate.csv\")"
   ]
  },
  {
   "cell_type": "code",
   "execution_count": 2,
   "metadata": {},
   "outputs": [
    {
     "data": {
      "text/plain": [
       "(2189743, 152)"
      ]
     },
     "execution_count": 2,
     "metadata": {},
     "output_type": "execute_result"
    }
   ],
   "source": [
    "london.shape"
   ]
  },
  {
   "cell_type": "markdown",
   "metadata": {},
   "source": [
    "## Dummifying Month And Cluster Columns"
   ]
  },
  {
   "cell_type": "code",
   "execution_count": 2,
   "metadata": {
    "collapsed": true
   },
   "outputs": [],
   "source": [
    "london[\"month\"] = london[\"year_month_new\"].map(lambda x:int(str(x)[4:]))\n",
    "monthDummies = pandas.get_dummies(london[\"month\"],prefix=\"month\"+\"_\")\n",
    "london = pandas.concat([london,monthDummies],axis=1)\n",
    "london.drop([\"month\"],axis=1,inplace=True)\n",
    "\n",
    "clusterDummies = pandas.get_dummies(london[\"cluster\"],prefix=\"cluster\"+\"_\")\n",
    "london = pandas.concat([london,clusterDummies],axis=1)\n",
    "london.drop([\"cluster\"],axis=1,inplace=True)"
   ]
  },
  {
   "cell_type": "code",
   "execution_count": 3,
   "metadata": {
    "collapsed": true
   },
   "outputs": [],
   "source": [
    "londonPrice = london[london[\"year_month_new\"]>=200901]  ## 199501 for full data\n",
    "dropList = [\"borough\",\"ward\",\"borough_code\",\"latitude\",\"longitude\",\"yearBetween\",\\\n",
    "            \"YearMon\",\"Year\",\"Month\",\"ward_code\",'avg_co2_emission_in_kt', 'avg_population']\n",
    "londonPrice = londonPrice.drop(dropList,axis=1)\n",
    "\n",
    "train = londonPrice[londonPrice[\"year_month_new\"]<201401]\n",
    "test = londonPrice[londonPrice[\"year_month_new\"]>=201401]\n",
    "testCols = train.columns[3:]"
   ]
  },
  {
   "cell_type": "markdown",
   "metadata": {},
   "source": [
    "## Xtreme Gradient Boost"
   ]
  },
  {
   "cell_type": "code",
   "execution_count": null,
   "metadata": {
    "collapsed": true
   },
   "outputs": [],
   "source": [
    "from sklearn import model_selection, preprocessing\n",
    "import xgboost as xgb\n",
    "\n",
    "y_train = train[\"price\"]\n",
    "x_train = train[testCols]\n",
    "x_test = test[testCols]\n",
    "\n",
    "### Optimum Found From Grid Search\n",
    "xgb_params = {\n",
    "    'eta': 0.02,\n",
    "    'max_depth': 8,\n",
    "    'subsample': 0.5,\n",
    "    'colsample_bytree': 0.2,# \n",
    "    'objective': 'reg:linear',\n",
    "    'eval_metric': 'mae',\n",
    "    \"booster\" : \"gbtree\",\n",
    "    'silent': 1,\n",
    "    'lambda':0.7,\n",
    "    'alpha':0.7\n",
    "}\n",
    "\n",
    "dtrain = xgb.DMatrix(x_train, y_train)\n",
    "dtest = xgb.DMatrix(x_test)\n",
    "\n",
    "cv_output = xgb.cv(xgb_params, dtrain, num_boost_round=1000, early_stopping_rounds=100,verbose_eval=50, show_stdv=False)\n"
   ]
  },
  {
   "cell_type": "markdown",
   "metadata": {},
   "source": [
    "## Creating Model From Best Iteration"
   ]
  },
  {
   "cell_type": "code",
   "execution_count": null,
   "metadata": {
    "collapsed": true
   },
   "outputs": [],
   "source": [
    "num_boost_rounds = len(cv_output)\n",
    "model = xgb.train(dict(xgb_params, silent=0), dtrain, num_boost_round= num_boost_rounds)\n",
    "\n",
    "# Make predictions\n",
    "predsTrain =model.predict(dtrain)\n",
    "predsTest = model.predict(dtest)\n"
   ]
  },
  {
   "cell_type": "markdown",
   "metadata": {},
   "source": [
    "## Calculating Train And Test MAPE"
   ]
  },
  {
   "cell_type": "code",
   "execution_count": null,
   "metadata": {
    "collapsed": true
   },
   "outputs": [],
   "source": [
    "trainResults = train\n",
    "trainResults[\"Predicted\"] = predsTrain\n",
    "postalMeanTrain = pandas.DataFrame(trainResults.groupby([\"post_code\"])[\"price\",\"Predicted\"].mean()).reset_index()\n",
    "postalMeanTrain[\"AP\"] = abs(postalMeanTrain[\"price\"]  -  postalMeanTrain[\"Predicted\"])/postalMeanTrain[\"price\"]\n",
    "print(\"Train Mape: \",postalMeanTrain.AP.mean())\n",
    "\n",
    "testResults = test\n",
    "testResults[\"Predicted\"] = predsTest\n",
    "postalMeanTest = pandas.DataFrame(testResults.groupby([\"post_code\"])[\"price\",\"Predicted\"].mean()).reset_index()\n",
    "postalMeanTest[\"AP\"] = abs(postalMeanTest[\"price\"]  -  postalMeanTest[\"Predicted\"])/postalMeanTest[\"price\"]\n",
    "print(\"Test Mape: \",postalMeanTest.AP.mean())"
   ]
  },
  {
   "cell_type": "markdown",
   "metadata": {},
   "source": [
    "## Running XGBoost For Every Cluster"
   ]
  },
  {
   "cell_type": "code",
   "execution_count": null,
   "metadata": {
    "collapsed": true
   },
   "outputs": [],
   "source": [
    "for clusNum in list(london[\"cluster\"].unique()):\n",
    "    print(\"cluster Num: \",clusNum)\n",
    "    londonPrice = london[london[\"cluster\"]==int(clusNum)]\n",
    "\n",
    "    londonPrice = londonPrice[londonPrice[\"year_month_new\"]>=200901] # 199501 for full data\n",
    "    dropList = [\"borough\",\"ward\",\"borough_code\",\"latitude\",\"longitude\",\"yearBetween\",\\\n",
    "                \"YearMon\",\"Year\",\"Month\",\"ward_code\",'avg_co2_emission_in_kt', 'avg_population']\n",
    "    londonPrice = londonPrice.drop(dropList,axis=1)\n",
    "\n",
    "    train = londonPrice[londonPrice[\"year_month_new\"]<201401]\n",
    "    test = londonPrice[londonPrice[\"year_month_new\"]>=201401]\n",
    "    testCols = train.columns[3:]\n",
    "\n",
    "    y_train = train[\"price\"]\n",
    "    x_train = train[testCols]\n",
    "    x_test = test[testCols]\n",
    "\n",
    "\n",
    "    xgb_params = {\n",
    "        'eta': 0.02,\n",
    "        'max_depth': 8,\n",
    "        'subsample': 0.5,\n",
    "        'colsample_bytree': 0.2,# \n",
    "        'objective': 'reg:linear',\n",
    "        'eval_metric': 'mae',\n",
    "        \"booster\" : \"gbtree\",\n",
    "        'silent': 1,\n",
    "        'lambda':0.7,\n",
    "        'alpha':0.7\n",
    "    }\n",
    "\n",
    "    dtrain = xgb.DMatrix(x_train, y_train)\n",
    "    dtest = xgb.DMatrix(x_test)\n",
    "\n",
    "    cv_output = xgb.cv(xgb_params, dtrain, num_boost_round=2000, early_stopping_rounds=100, show_stdv=False)\n",
    "    num_boost_rounds = len(cv_output)\n",
    "    model = xgb.train(dict(xgb_params, silent=0), dtrain, num_boost_round= num_boost_rounds)\n",
    "\n",
    "    # Make predictions\n",
    "    predsTrain =model.predict(dtrain)\n",
    "    predsTest = model.predict(dtest)\n",
    "\n",
    "    #print (grid_gbm.best_params_)\n",
    "    trainResults = train\n",
    "    trainResults[\"Predicted\"] = predsTrain\n",
    "    postalMeanTrain = pandas.DataFrame(trainResults.groupby([\"post_code\"])[\"price\",\"Predicted\"].mean()).reset_index()\n",
    "    postalMeanTrain[\"AP\"] = abs(postalMeanTrain[\"price\"]  -  postalMeanTrain[\"Predicted\"])/postalMeanTrain[\"price\"]\n",
    "    print(\"Train Mape: \",postalMeanTrain.AP.mean())\n",
    "\n",
    "    testResults = test\n",
    "    testResults[\"Predicted\"] = predsTest\n",
    "    postalMeanTest = pandas.DataFrame(testResults.groupby([\"post_code\"])[\"price\",\"Predicted\"].mean()).reset_index()\n",
    "    postalMeanTest[\"AP\"] = abs(postalMeanTest[\"price\"]  -  postalMeanTest[\"Predicted\"])/postalMeanTest[\"price\"]\n",
    "    print(\"Test Mape: \",postalMeanTest.AP.mean())"
   ]
  },
  {
   "cell_type": "code",
   "execution_count": null,
   "metadata": {
    "collapsed": true
   },
   "outputs": [],
   "source": []
  }
 ],
 "metadata": {
  "kernelspec": {
   "display_name": "Python 3",
   "language": "python",
   "name": "python3"
  },
  "language_info": {
   "codemirror_mode": {
    "name": "ipython",
    "version": 3
   },
   "file_extension": ".py",
   "mimetype": "text/x-python",
   "name": "python",
   "nbconvert_exporter": "python",
   "pygments_lexer": "ipython3",
   "version": "3.6.1"
  }
 },
 "nbformat": 4,
 "nbformat_minor": 2
}
